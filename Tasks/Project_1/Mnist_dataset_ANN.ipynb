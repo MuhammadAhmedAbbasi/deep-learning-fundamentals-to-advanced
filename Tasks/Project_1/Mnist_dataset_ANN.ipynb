{
 "cells": [
  {
   "cell_type": "code",
   "execution_count": null,
   "metadata": {},
   "outputs": [],
   "source": [
    "import torch\n",
    "import numpy as np\n",
    "import matplotlib.pyplot as plt\n",
    "import torchvision.transforms as T \n",
    "\n",
    "from torch import nn\n",
    "from torch.utils.data import DataLoader \n",
    "from torchvision import datasets \n",
    "from sklearn.metrics import accuracy_score"
   ]
  },
  {
   "cell_type": "code",
   "execution_count": 2,
   "metadata": {},
   "outputs": [],
   "source": [
    "my_transform = T.Compose([\n",
    "    T.ToTensor(),\n",
    "    T.Normalize((0.5,),(0.5,))\n",
    "])"
   ]
  },
  {
   "cell_type": "code",
   "execution_count": 3,
   "metadata": {},
   "outputs": [],
   "source": [
    "# Loading Dataset\n",
    "train_dataset = datasets.MNIST(root = './data', train = True, download = False, transform = my_transform )\n",
    "test_dataset = datasets.MNIST(root = './data', train = False, download = False, transform = my_transform )"
   ]
  },
  {
   "cell_type": "code",
   "execution_count": 4,
   "metadata": {},
   "outputs": [],
   "source": [
    "# DataLoader\n",
    "train_loader = DataLoader(dataset = train_dataset, batch_size = 64, shuffle = True)\n",
    "test_loader = DataLoader(dataset = test_dataset, batch_size = 1000, shuffle = False)"
   ]
  },
  {
   "cell_type": "code",
   "execution_count": 5,
   "metadata": {},
   "outputs": [
    {
     "data": {
      "text/plain": [
       "torch.Size([1, 784])"
      ]
     },
     "execution_count": 5,
     "metadata": {},
     "output_type": "execute_result"
    }
   ],
   "source": [
    "# Flatten the image to [784]\n",
    "train_dataset[0][0].view(1,-1).shape\n"
   ]
  },
  {
   "cell_type": "code",
   "execution_count": 6,
   "metadata": {},
   "outputs": [],
   "source": [
    "class ANNModel(nn.Module):\n",
    "    def __init__(self):\n",
    "        super(ANNModel, self).__init__()\n",
    "        self.fc1 = nn.Linear(28*28,512)\n",
    "        self.fc2 = nn.Linear(512,128)\n",
    "        self.fc3 = nn.Linear(128,10)\n",
    "    def forward(self,x):\n",
    "        x = x.view(x.size(0), -1)\n",
    "        x = torch.relu(self.fc1(x))\n",
    "        x = torch.relu(self.fc2(x))\n",
    "        x = self.fc3(x)\n",
    "        return x"
   ]
  },
  {
   "cell_type": "code",
   "execution_count": 7,
   "metadata": {},
   "outputs": [],
   "source": [
    "model = ANNModel().to(\"cuda\")"
   ]
  },
  {
   "cell_type": "code",
   "execution_count": 8,
   "metadata": {},
   "outputs": [],
   "source": [
    "criterian = nn.CrossEntropyLoss()\n",
    "optimizer = torch.optim.Adam(model.parameters(), lr = 0.001)\n",
    "epochs = 10\n",
    "device = \"cuda\"\n",
    "scheduler = torch.optim.lr_scheduler.StepLR(\n",
    "    optimizer, \n",
    "    step_size=5,  # Reduce LR every 5 epochs\n",
    "    gamma=0.9     # Multiply LR by 0.5 each time\n",
    ")\n"
   ]
  },
  {
   "cell_type": "code",
   "execution_count": 9,
   "metadata": {},
   "outputs": [],
   "source": [
    "def evaluate(test_loader):\n",
    "    with torch.no_grad():\n",
    "        test_loss_overall = 0.0\n",
    "        true_label = []\n",
    "        pred_label = []\n",
    "        for data, label in test_loader:\n",
    "            data, label = data.to(device), label.to(device)\n",
    "            test_pred = model(data)\n",
    "            test_loss = criterian(test_pred, label)\n",
    "            test_loss_overall += test_loss.item()\n",
    "            _ , test_prediction = torch.max(test_pred, 1)\n",
    "            true_label.append(label.cpu().numpy())\n",
    "            pred_label.append(test_prediction.cpu().numpy())\n",
    "        average_test_loss = test_loss_overall/len(test_loader)\n",
    "        ty_true = np.concatenate(true_label)\n",
    "        ty_pred = np.concatenate(pred_label)\n",
    "\n",
    "        test_accuracy = accuracy_score(ty_true, ty_pred)\n",
    "        print(f'')\n",
    "        return average_test_loss, test_accuracy\n"
   ]
  },
  {
   "cell_type": "code",
   "execution_count": 10,
   "metadata": {},
   "outputs": [],
   "source": [
    "def train(epochs: int, train_data_loader: DataLoader, path: str):\n",
    "    prev_test_accuracy = 0\n",
    "    for epoch in range(epochs):\n",
    "        train_loss = 0.0\n",
    "        pred_label = []\n",
    "        actual_labels = []\n",
    "        model.train()\n",
    "\n",
    "        for batch, (data, label) in enumerate(train_data_loader):\n",
    "            data, label = data.to(device), label.to(device)\n",
    "            model.zero_grad()\n",
    "            pred = model(data)\n",
    "            loss = criterian(pred, label)\n",
    "            loss.backward()\n",
    "            optimizer.step()\n",
    "            train_loss += loss.item()\n",
    "            _, prediction = torch.max(pred, 1)\n",
    "            actual_labels.append(label.cpu().numpy())\n",
    "            pred_label.append(prediction.cpu().detach().numpy())\n",
    "        scheduler.step()\n",
    "        average_loss = train_loss/len(train_loader)\n",
    "        y_pred = np.concatenate(pred_label)\n",
    "        y_actual = np.concatenate(actual_labels)\n",
    "        accuracy = accuracy_score(y_actual, y_pred)\n",
    "        test_average_loss, test_accuracy = evaluate(test_loader)\n",
    "        print(f'Epoch {epoch+1} : Train Accuracy: {accuracy}, train loss: {loss}, Testing result: Test Accuracy: {test_accuracy}, Test Loss: {test_average_loss} ')\n",
    "        if prev_test_accuracy < test_accuracy:\n",
    "            prev_test_accuracy = test_accuracy\n",
    "            torch.save(model.state_dict(),path)\n",
    "            print(f\"Model is saved at Test Accuracy of: {test_accuracy}\")\n",
    "        \n"
   ]
  },
  {
   "cell_type": "code",
   "execution_count": 11,
   "metadata": {},
   "outputs": [],
   "source": [
    "path = r'D:\\BOOK\\Deep_learning_book\\ANN\\Models\\MNIST.pt'"
   ]
  },
  {
   "cell_type": "code",
   "execution_count": 12,
   "metadata": {},
   "outputs": [
    {
     "name": "stdout",
     "output_type": "stream",
     "text": [
      "\n",
      "Epoch 1 : Train Accuracy: 0.9026833333333333, train loss: 0.2016885131597519, Testing result: Test Accuracy: 0.9475, Test Loss: 0.16532125435769557 \n",
      "Model is saved at Test Accuracy of: 0.9475\n",
      "\n",
      "Epoch 2 : Train Accuracy: 0.9572333333333334, train loss: 0.05547843128442764, Testing result: Test Accuracy: 0.9445, Test Loss: 0.1781404621899128 \n",
      "\n",
      "Epoch 3 : Train Accuracy: 0.9673166666666667, train loss: 0.07282276451587677, Testing result: Test Accuracy: 0.9675, Test Loss: 0.09913906045258045 \n",
      "Model is saved at Test Accuracy of: 0.9675\n",
      "\n",
      "Epoch 4 : Train Accuracy: 0.9727, train loss: 0.02198299951851368, Testing result: Test Accuracy: 0.9683, Test Loss: 0.09943986497819424 \n",
      "Model is saved at Test Accuracy of: 0.9683\n",
      "\n",
      "Epoch 5 : Train Accuracy: 0.97715, train loss: 0.28867852687835693, Testing result: Test Accuracy: 0.9726, Test Loss: 0.09162338636815548 \n",
      "Model is saved at Test Accuracy of: 0.9726\n",
      "\n",
      "Epoch 6 : Train Accuracy: 0.9811666666666666, train loss: 0.04065467789769173, Testing result: Test Accuracy: 0.9772, Test Loss: 0.07673775404691696 \n",
      "Model is saved at Test Accuracy of: 0.9772\n",
      "\n",
      "Epoch 7 : Train Accuracy: 0.9831, train loss: 0.0029904525727033615, Testing result: Test Accuracy: 0.9718, Test Loss: 0.0954287862405181 \n",
      "\n",
      "Epoch 8 : Train Accuracy: 0.9854166666666667, train loss: 0.014603477902710438, Testing result: Test Accuracy: 0.9701, Test Loss: 0.0962947305291891 \n",
      "\n",
      "Epoch 9 : Train Accuracy: 0.9860166666666667, train loss: 0.09472400695085526, Testing result: Test Accuracy: 0.978, Test Loss: 0.08083936227485537 \n",
      "Model is saved at Test Accuracy of: 0.978\n",
      "\n",
      "Epoch 10 : Train Accuracy: 0.9875833333333334, train loss: 0.0073904539458453655, Testing result: Test Accuracy: 0.9744, Test Loss: 0.10198776312172413 \n"
     ]
    }
   ],
   "source": [
    "train(epochs = epochs, train_data_loader = train_loader, path = path)"
   ]
  },
  {
   "cell_type": "code",
   "execution_count": null,
   "metadata": {},
   "outputs": [],
   "source": []
  }
 ],
 "metadata": {
  "kernelspec": {
   "display_name": "Python 3",
   "language": "python",
   "name": "python3"
  },
  "language_info": {
   "codemirror_mode": {
    "name": "ipython",
    "version": 3
   },
   "file_extension": ".py",
   "mimetype": "text/x-python",
   "name": "python",
   "nbconvert_exporter": "python",
   "pygments_lexer": "ipython3",
   "version": "3.10.0"
  }
 },
 "nbformat": 4,
 "nbformat_minor": 2
}
