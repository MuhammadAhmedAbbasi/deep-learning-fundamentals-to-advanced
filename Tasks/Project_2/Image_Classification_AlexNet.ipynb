{
 "cells": [
  {
   "cell_type": "code",
   "execution_count": 1,
   "metadata": {},
   "outputs": [],
   "source": [
    "from torchvision import datasets, transforms\n",
    "from torch.utils.data import DataLoader\n",
    "import pandas as pd\n",
    "import numpy as np\n",
    "from torch import nn\n",
    "import torch\n",
    "from sklearn.metrics import accuracy_score\n"
   ]
  },
  {
   "cell_type": "code",
   "execution_count": 2,
   "metadata": {},
   "outputs": [],
   "source": [
    "train_dataset = datasets.CIFAR10(root = './dataset/', train = True, download = True, transform = transforms.ToTensor())\n",
    "test_dataset = datasets.CIFAR10(root = './dataset/', train = False, download = True, transform = transforms.ToTensor() )"
   ]
  },
  {
   "cell_type": "code",
   "execution_count": 3,
   "metadata": {},
   "outputs": [
    {
     "name": "stdout",
     "output_type": "stream",
     "text": [
      "Mean: tensor([0.4914, 0.4822, 0.4465])\n",
      "Std: tensor([0.2470, 0.2435, 0.2616])\n"
     ]
    }
   ],
   "source": [
    "train_loader = DataLoader(train_dataset, batch_size=len(train_dataset), shuffle=False)\n",
    "data = next(iter(train_loader))[0]\n",
    "mean = data.mean(dim=[0,2,3])\n",
    "std  = data.std(dim=[0,2,3])\n",
    "\n",
    "print(\"Mean:\", mean)\n",
    "print(\"Std:\", std)\n"
   ]
  },
  {
   "cell_type": "code",
   "execution_count": null,
   "metadata": {},
   "outputs": [],
   "source": [
    "# Augmentation\n",
    "\n",
    "train_augment = transforms.Compose(\n",
    "    [transforms.Resize((227, 227)),\n",
    "    transforms.RandomHorizontalFlip(),\n",
    "    transforms.RandomRotation(15),\n",
    "    transforms.ToTensor(),\n",
    "    transforms.Normalize(mean = mean, std = std)])\n",
    "\n",
    "test_transform = transforms.Compose([\n",
    "    transforms.Resize((227,227)),\n",
    "    transforms.ToTensor(),\n",
    "    transforms.Normalize(mean = mean, std = std)\n",
    "])"
   ]
  },
  {
   "cell_type": "code",
   "execution_count": 5,
   "metadata": {},
   "outputs": [],
   "source": [
    "train_dataset = datasets.CIFAR10(root = './dataset/', train = True, download = True, transform = train_augment)\n",
    "test_dataset = datasets.CIFAR10(root = './dataset/', train = False, download = True, transform = test_transform )"
   ]
  },
  {
   "cell_type": "code",
   "execution_count": 6,
   "metadata": {},
   "outputs": [],
   "source": [
    "train_loader = DataLoader(train_dataset, batch_size = 512, shuffle = True)\n",
    "test_loader = DataLoader(test_dataset, batch_size = 1000, shuffle = False) "
   ]
  },
  {
   "cell_type": "code",
   "execution_count": 7,
   "metadata": {},
   "outputs": [],
   "source": [
    "class AlexNet(nn.Module):\n",
    "    def __init__(self):\n",
    "        super(AlexNet, self).__init__()\n",
    "\n",
    "        self.features = nn.Sequential(\n",
    "        nn.Conv2d(3,64,kernel_size = 11, stride = 4, padding = 2),\n",
    "        nn.BatchNorm2d(64),\n",
    "        nn.ReLU(inplace = True),\n",
    "        nn.MaxPool2d(kernel_size = 3, stride = 2),\n",
    "        nn.Conv2d(64,192,kernel_size = 5, stride = 1, padding = 2),\n",
    "        nn.BatchNorm2d(192),\n",
    "        nn.ReLU(inplace = True),\n",
    "        nn.MaxPool2d(kernel_size = 3, stride = 2),\n",
    "        nn.Conv2d(192,384,kernel_size = 3, stride = 1, padding = 1),\n",
    "        nn.BatchNorm2d(384),\n",
    "        nn.ReLU(inplace = True),\n",
    "        nn.Conv2d(384,256,kernel_size = 3, stride = 1, padding = 1),\n",
    "        nn.BatchNorm2d(256),\n",
    "        nn.ReLU(inplace = True),\n",
    "        nn.Conv2d(256,256,kernel_size = 3, stride = 1, padding = 1),\n",
    "        nn.BatchNorm2d(256),\n",
    "        nn.ReLU(inplace = True),\n",
    "        nn.MaxPool2d(kernel_size = 3, stride = 2),\n",
    "        nn.AdaptiveAvgPool2d(output_size = (6,6)))\n",
    "\n",
    "        self.classifier = nn.Sequential(\n",
    "            nn.Dropout(0.5),\n",
    "            nn.Linear(9216,4096),\n",
    "            nn.ReLU(inplace = True),\n",
    "            nn.Dropout(0.5),\n",
    "            nn.Linear(4096,1024),\n",
    "            nn.ReLU(inplace = True),\n",
    "            nn.Linear(1024,10))\n",
    "    def forward(self,x):\n",
    "        x = self.features(x)\n",
    "        x= x.view(x.size(0),-1)\n",
    "        x = self.classifier(x)\n",
    "        return x\n"
   ]
  },
  {
   "cell_type": "code",
   "execution_count": 8,
   "metadata": {},
   "outputs": [],
   "source": [
    "device = \"cuda\""
   ]
  },
  {
   "cell_type": "code",
   "execution_count": null,
   "metadata": {},
   "outputs": [],
   "source": [
    "alex_net = AlexNet().to(device)"
   ]
  },
  {
   "cell_type": "code",
   "execution_count": null,
   "metadata": {},
   "outputs": [],
   "source": [
    "# Now set the parameters\n",
    "epochs = 100\n",
    "criterian = nn.CrossEntropyLoss()\n",
    "optimizer = torch.optim.Adam(alex_net.parameters(), lr = 0.001)\n"
   ]
  },
  {
   "cell_type": "code",
   "execution_count": null,
   "metadata": {},
   "outputs": [],
   "source": [
    "def evaluate(loader: DataLoader):\n",
    "    test_true_label = []\n",
    "    test_pred_label = []\n",
    "    test_overall_loss = 0.0\n",
    "    with torch.no_grad():\n",
    "        for data, label in loader:\n",
    "            data, label = data.to(device), label.to(device)\n",
    "            test_prediction = alex_net(data)\n",
    "            test_loss = criterian(test_prediction, label)\n",
    "            _,test_pred = torch.max(test_prediction,1)\n",
    "            test_true_label.append(label.cpu().numpy())\n",
    "            test_pred_label.append(test_pred.cpu().numpy())\n",
    "            test_overall_loss += test_loss.item()\n",
    "        average_test_loss = test_overall_loss/len(loader)\n",
    "        ty_true = np.concatenate(test_true_label)\n",
    "        ty_pred = np.concatenate(test_pred_label)\n",
    "        testing_final_accuracy = accuracy_score(ty_true, ty_pred)\n",
    "        return testing_final_accuracy, average_test_loss\n",
    "\n",
    "def train(training_loader, testing_loader, test_eval: bool = True):\n",
    "    benchmark_testing_accuracy = 0.0\n",
    "    benchmark_training_accuray = 0.0\n",
    "    for epoch in range(epochs):\n",
    "        alex_net.train()\n",
    "        train_loss = 0.0\n",
    "        true_label = []\n",
    "        pred_label = []\n",
    "        for data, label in training_loader:\n",
    "            data, label = data.to(device), label.to(device)\n",
    "            alex_net.zero_grad()\n",
    "            train_pred = alex_net(data)\n",
    "            training_loss = criterian(train_pred, label)\n",
    "            training_loss.backward()\n",
    "            optimizer.step()\n",
    "            _,prediction = torch.max(train_pred,1)\n",
    "            true_label.append(label.cpu().numpy())\n",
    "            pred_label.append(prediction.cpu().detach().numpy())\n",
    "            train_loss += training_loss.item()\n",
    "        average_loss = train_loss/len(training_loader)\n",
    "        y_true = np.concatenate(true_label)\n",
    "        y_pred = np.concatenate(pred_label)\n",
    "        train_accuracy = accuracy_score(y_true, y_pred)\n",
    "        if test_eval == True:\n",
    "            testing_final_accuracy, average_test_loss = evaluate(testing_loader)\n",
    "            print(f'Epoch {epoch + 1}: Training Loss: {average_loss}, Training Accuracy: {train_accuracy}, Testing Loss: {average_test_loss}, Testing Accuracy: {testing_final_accuracy}')\n",
    "            if testing_final_accuracy > benchmark_testing_accuracy:\n",
    "                torch.save(alex_net.state_dict, './model_checkpoint/alex_net/')\n",
    "                benchmark_testing_accuracy = testing_final_accuracy\n",
    "                print(f\"Model saved at acuracy of: {testing_final_accuracy}\")\n",
    "        else:\n",
    "            print(f'Epoch {epoch + 1}: Training Loss: {average_loss}, Training Accuracy: {train_accuracy}')\n",
    "            if benchmark_training_accuray > benchmark_testing_accuracy:\n",
    "                torch.save(alex_net.state_dict, './model_checkpoint/alex_net/')\n",
    "                benchmark_training_accuray = testing_final_accuracy\n",
    "                print(f\"Model saved at acuracy of: {testing_final_accuracy}\")\n",
    "        \n"
   ]
  },
  {
   "cell_type": "code",
   "execution_count": 12,
   "metadata": {},
   "outputs": [
    {
     "name": "stdout",
     "output_type": "stream",
     "text": [
      "Epoch 1: Training Loss: 8252.970587764468, Training Accuracy: 0.1009, Testing Loss: 2.7589486122131346, Testing Accuracy: 0.0997\n"
     ]
    }
   ],
   "source": [
    "train(train_loader, test_loader)"
   ]
  },
  {
   "cell_type": "code",
   "execution_count": null,
   "metadata": {},
   "outputs": [],
   "source": []
  }
 ],
 "metadata": {
  "kernelspec": {
   "display_name": "Python 3",
   "language": "python",
   "name": "python3"
  },
  "language_info": {
   "codemirror_mode": {
    "name": "ipython",
    "version": 3
   },
   "file_extension": ".py",
   "mimetype": "text/x-python",
   "name": "python",
   "nbconvert_exporter": "python",
   "pygments_lexer": "ipython3",
   "version": "3.10.0"
  }
 },
 "nbformat": 4,
 "nbformat_minor": 2
}
