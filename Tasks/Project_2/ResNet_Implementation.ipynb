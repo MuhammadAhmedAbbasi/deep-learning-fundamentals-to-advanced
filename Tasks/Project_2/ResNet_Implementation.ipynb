{
 "cells": [
  {
   "cell_type": "code",
   "execution_count": 30,
   "metadata": {},
   "outputs": [],
   "source": [
    "from torchvision import datasets, transforms\n",
    "from torch.utils.data import DataLoader\n",
    "import pandas as pd\n",
    "import numpy as np\n",
    "from torch import nn\n",
    "import torch\n",
    "from sklearn.metrics import accuracy_score\n",
    "import matplotlib.pyplot as plt\n",
    "\n"
   ]
  },
  {
   "cell_type": "code",
   "execution_count": 31,
   "metadata": {},
   "outputs": [],
   "source": [
    "train_dataset = datasets.CIFAR10(root = './dataset/', train = True, download = True, transform = transforms.ToTensor())\n",
    "test_dataset = datasets.CIFAR10(root = './dataset/', train = False, download = True, transform = transforms.ToTensor() )"
   ]
  },
  {
   "cell_type": "code",
   "execution_count": 32,
   "metadata": {},
   "outputs": [
    {
     "name": "stdout",
     "output_type": "stream",
     "text": [
      "Mean: tensor([0.4914, 0.4822, 0.4465])\n",
      "Std: tensor([0.2470, 0.2435, 0.2616])\n"
     ]
    }
   ],
   "source": [
    "train_loader = DataLoader(train_dataset, batch_size=len(train_dataset), shuffle=False)\n",
    "data = next(iter(train_loader))[0]\n",
    "mean = data.mean(dim=[0,2,3])\n",
    "std  = data.std(dim=[0,2,3])\n",
    "\n",
    "print(\"Mean:\", mean)\n",
    "print(\"Std:\", std)\n"
   ]
  },
  {
   "cell_type": "code",
   "execution_count": 33,
   "metadata": {},
   "outputs": [],
   "source": [
    "# Augmentation\n",
    "\n",
    "train_augment = transforms.Compose(\n",
    "    [transforms.Resize((227, 227)),\n",
    "    transforms.RandomHorizontalFlip(),\n",
    "    transforms.RandomRotation(15),\n",
    "    transforms.ToTensor(),\n",
    "    transforms.Normalize(mean = mean, std = std)])\n",
    "\n",
    "test_transform = transforms.Compose([\n",
    "    transforms.Resize((227,227)),\n",
    "    transforms.ToTensor(),\n",
    "    transforms.Normalize(mean = mean, std = std)\n",
    "])"
   ]
  },
  {
   "cell_type": "code",
   "execution_count": 34,
   "metadata": {},
   "outputs": [],
   "source": [
    "train_dataset = datasets.CIFAR10(root = './dataset/', train = True, download = True, transform = train_augment)\n",
    "test_dataset = datasets.CIFAR10(root = './dataset/', train = False, download = True, transform = test_transform )"
   ]
  },
  {
   "cell_type": "code",
   "execution_count": 35,
   "metadata": {},
   "outputs": [],
   "source": [
    "train_loader = DataLoader(train_dataset, batch_size = 64, shuffle = True)\n",
    "test_loader = DataLoader(test_dataset, batch_size = 1000, shuffle = False) "
   ]
  },
  {
   "cell_type": "code",
   "execution_count": 29,
   "metadata": {},
   "outputs": [],
   "source": [
    "class BottleNeck(nn.Sequential):\n",
    "    def __init__(self, in_channel, out_channel, downsample = False):\n",
    "        super(BottleNeck, self).__init__()\n",
    "        self.stride = 2 if downsample else 1\n",
    "        self.conv1 = nn.Conv2d(in_channels = in_channel, out_channels = out_channel, kernel_size = 3, stride = self.stride, padding = 1)\n",
    "        self.batch1 = nn.BatchNorm2d(out_channel)\n",
    "        self.rel1 = nn.ReLU()\n",
    "        self.conv2 = nn.Conv2d(in_channels = out_channel, out_channels = out_channel, kernel_size = 3, stride = 1, padding = 1)\n",
    "        self.batch2 = nn.BatchNorm2d(out_channel)\n",
    "\n",
    "\n",
    "        if downsample or in_channel != out_channel:\n",
    "            self.conv = nn.Conv2d(in_channels = in_channel, out_channels = out_channel, kernel_size = 1, stride = self.stride, bias = False)\n",
    "        else:\n",
    "            self.conv = None\n",
    "    def forward(self, x):\n",
    "        residual = x\n",
    "        if self.conv is not None:\n",
    "            residual = self.conv(x)\n",
    "        x = self.conv1(x)\n",
    "        x = self.batch1(x)\n",
    "        x = self.rel1(x)\n",
    "        x = self.conv2(x)\n",
    "        x = self.batch2(x)\n",
    "        x = x + residual\n",
    "        x = self.rel1(x)\n",
    "        return x \n",
    "        \n",
    "\n",
    "class ResNet18(nn.Module):\n",
    "    def __init__(self, in_channel = 3, classes = 10):\n",
    "        super(ResNet18, self).__init__()\n",
    "        self.features = nn.Sequential(\n",
    "            nn.Conv2d(in_channels= in_channel, out_channels = 64, kernel_size = 7 ,stride = 2, padding = 3),\n",
    "            nn.BatchNorm2d(64),\n",
    "            nn.ReLU(),\n",
    "            nn.MaxPool2d(kernel_size = 3, stride = 2, padding = 1)\n",
    "        )\n",
    "        self.layer_1 = nn.Sequential(\n",
    "            BottleNeck(64,64, downsample = False),\n",
    "            BottleNeck(64,64, downsample = False)\n",
    "        )\n",
    "        self.layer_2 = nn.Sequential(\n",
    "            BottleNeck(64,128, downsample = True),\n",
    "            BottleNeck(128,128, downsample = False)\n",
    "        )\n",
    "        self.layer_3 = nn.Sequential(\n",
    "            BottleNeck(128,256, downsample = True),\n",
    "            BottleNeck(256,256, downsample = False)\n",
    "        )\n",
    "        self.layer_4 = nn.Sequential(\n",
    "            BottleNeck(256,512, downsample = True),\n",
    "            BottleNeck(512,512, downsample = False)\n",
    "        )\n",
    "        # Final pooling and classifier\n",
    "        self.avg_pool = nn.AdaptiveAvgPool2d((1, 1))  # Reduces to 1x1 spatial size\n",
    "        self.classifier = nn.Linear(512, classes)  # Maps features to classes\n",
    "\n",
    "    def forward(self, x):\n",
    "        x = self.features(x)\n",
    "        x = self.layer_1(x)\n",
    "        x = self.layer_2(x)\n",
    "        x = self.layer_3(x)\n",
    "        x = self.layer_4(x)\n",
    "        x = self.avg_pool(x)\n",
    "        x = x.view(-1, 512)\n",
    "        x = self.classifier(x)\n",
    "        return x\n",
    "        "
   ]
  },
  {
   "cell_type": "code",
   "execution_count": 36,
   "metadata": {},
   "outputs": [],
   "source": [
    "device = \"cuda\""
   ]
  },
  {
   "cell_type": "code",
   "execution_count": 38,
   "metadata": {},
   "outputs": [],
   "source": [
    "model = ResNet18().to(device)\n"
   ]
  },
  {
   "cell_type": "code",
   "execution_count": 40,
   "metadata": {},
   "outputs": [],
   "source": [
    "# Now set the parameters\n",
    "epochs = 30\n",
    "criterian = nn.CrossEntropyLoss()\n",
    "optimizer = torch.optim.Adam(model.parameters(), lr = 0.001)\n"
   ]
  },
  {
   "cell_type": "code",
   "execution_count": null,
   "metadata": {},
   "outputs": [],
   "source": [
    "def evaluate(loader: DataLoader):\n",
    "    test_true_label = []\n",
    "    test_pred_label = []\n",
    "\n",
    "    test_overall_loss = 0.0\n",
    "    with torch.no_grad():\n",
    "        for data, label in loader:\n",
    "            data, label = data.to(device), label.to(device)\n",
    "            test_prediction = model(data)\n",
    "            \n",
    "            test_loss = criterian(test_prediction, label)\n",
    "            _,test_pred = torch.max(test_prediction,1)\n",
    "            test_true_label.append(label.cpu().numpy())\n",
    "            test_pred_label.append(test_pred.cpu().numpy())\n",
    "            test_overall_loss += test_loss.item()\n",
    "        average_test_loss = test_overall_loss/len(loader)\n",
    "        ty_true = np.concatenate(test_true_label)\n",
    "        ty_pred = np.concatenate(test_pred_label)\n",
    "        testing_final_accuracy = accuracy_score(ty_true, ty_pred)\n",
    "        return testing_final_accuracy, average_test_loss\n",
    "\n",
    "def train(training_loader, testing_loader, test_eval: bool = True, patience: int  = 5):\n",
    "    benchmark_testing_accuracy = 0.0\n",
    "    benchmark_training_accuray = 0.0\n",
    "    counter = 0\n",
    "    train_plot_accuracy = []\n",
    "    test_plot_accuracy = []\n",
    "    train_plot_loss = []\n",
    "    test_plot_loss = []\n",
    "    for epoch in range(epochs):\n",
    "        model.train()\n",
    "        train_loss = 0.0\n",
    "        true_label = []\n",
    "        pred_label = []\n",
    "        for data, label in training_loader:\n",
    "            data, label = data.to(device), label.to(device)\n",
    "            model.zero_grad()\n",
    "            train_pred = model(data)\n",
    "            training_loss = criterian(train_pred, label)\n",
    "            training_loss.backward()\n",
    "            optimizer.step()\n",
    "            _,prediction = torch.max(train_pred,1)\n",
    "            true_label.append(label.cpu().numpy())\n",
    "            pred_label.append(prediction.cpu().detach().numpy())\n",
    "            train_loss += training_loss.item()\n",
    "        average_loss = train_loss/len(training_loader)\n",
    "        y_true = np.concatenate(true_label)\n",
    "        y_pred = np.concatenate(pred_label)\n",
    "        train_accuracy = accuracy_score(y_true, y_pred)\n",
    "\n",
    "        testing_final_accuracy, average_test_loss = evaluate(testing_loader)\n",
    "        train_plot_accuracy.append(train_accuracy)\n",
    "        test_plot_accuracy.append(testing_final_accuracy)\n",
    "        train_plot_loss.append(average_loss)\n",
    "        test_plot_loss.append(average_test_loss)\n",
    "        print(f'Epoch {epoch + 1}: Training Loss: {average_loss}, Training Accuracy: {train_accuracy}, Testing Loss: {average_test_loss}, Testing Accuracy: {testing_final_accuracy}')\n",
    "        if testing_final_accuracy > benchmark_testing_accuracy:\n",
    "            torch.save(model.state_dict(), './model_checkpoint/alex_net/alex_net.pth')\n",
    "            benchmark_testing_accuracy = testing_final_accuracy\n",
    "            counter = 0\n",
    "            print(f\"Model saved at acuracy of: {testing_final_accuracy}\")\n",
    "        else:\n",
    "            counter += 1\n",
    "        if counter > patience:\n",
    "            print(\"Model stopping due to no improvement in testing accuracy\")\n",
    "            return train_plot_accuracy, test_plot_accuracy, train_plot_loss, test_plot_loss\n",
    "    return train_plot_accuracy, test_plot_accuracy, train_plot_loss, test_plot_loss\n"
   ]
  },
  {
   "cell_type": "code",
   "execution_count": 43,
   "metadata": {},
   "outputs": [
    {
     "name": "stdout",
     "output_type": "stream",
     "text": [
      "Epoch 1: Training Loss: 1.5903875054148457, Training Accuracy: 0.40706, Testing Loss: 1.1894361615180968, Testing Accuracy: 0.5774\n",
      "Model saved at acuracy of: 0.5774\n",
      "Epoch 2: Training Loss: 0.9856256225987163, Training Accuracy: 0.64914, Testing Loss: 0.7885006487369537, Testing Accuracy: 0.7191\n",
      "Model saved at acuracy of: 0.7191\n",
      "Epoch 3: Training Loss: 0.7311657948795792, Training Accuracy: 0.74412, Testing Loss: 0.705269992351532, Testing Accuracy: 0.756\n",
      "Model saved at acuracy of: 0.756\n",
      "Epoch 4: Training Loss: 0.6084909917372266, Training Accuracy: 0.78888, Testing Loss: 0.6135749161243439, Testing Accuracy: 0.7874\n",
      "Model saved at acuracy of: 0.7874\n",
      "Epoch 5: Training Loss: 0.5257273098773054, Training Accuracy: 0.81716, Testing Loss: 0.5461825430393219, Testing Accuracy: 0.8122\n",
      "Model saved at acuracy of: 0.8122\n",
      "Epoch 6: Training Loss: 0.46494248048271364, Training Accuracy: 0.8382, Testing Loss: 0.5108953028917312, Testing Accuracy: 0.8282\n",
      "Model saved at acuracy of: 0.8282\n",
      "Epoch 7: Training Loss: 0.4148302004694024, Training Accuracy: 0.8553, Testing Loss: 0.49801780581474303, Testing Accuracy: 0.8279\n",
      "Epoch 8: Training Loss: 0.3728830044341209, Training Accuracy: 0.87038, Testing Loss: 0.48583688735961916, Testing Accuracy: 0.8344\n",
      "Model saved at acuracy of: 0.8344\n",
      "Epoch 9: Training Loss: 0.3325530015446646, Training Accuracy: 0.8842, Testing Loss: 0.44565492272377016, Testing Accuracy: 0.8515\n",
      "Model saved at acuracy of: 0.8515\n",
      "Epoch 10: Training Loss: 0.3020278969612878, Training Accuracy: 0.89514, Testing Loss: 0.441860219836235, Testing Accuracy: 0.853\n",
      "Model saved at acuracy of: 0.853\n",
      "Epoch 11: Training Loss: 0.27841286132555176, Training Accuracy: 0.90264, Testing Loss: 0.42315636575222015, Testing Accuracy: 0.8576\n",
      "Model saved at acuracy of: 0.8576\n",
      "Epoch 12: Training Loss: 0.24118467230740412, Training Accuracy: 0.91534, Testing Loss: 0.5033389031887054, Testing Accuracy: 0.8398\n",
      "Epoch 13: Training Loss: 0.22441005202300865, Training Accuracy: 0.92036, Testing Loss: 0.46984533965587616, Testing Accuracy: 0.85\n",
      "Epoch 14: Training Loss: 0.2030791540956482, Training Accuracy: 0.92866, Testing Loss: 0.43508039116859437, Testing Accuracy: 0.8629\n",
      "Model saved at acuracy of: 0.8629\n",
      "Epoch 15: Training Loss: 0.1834386333041941, Training Accuracy: 0.93608, Testing Loss: 0.42002018392086027, Testing Accuracy: 0.8703\n",
      "Model saved at acuracy of: 0.8703\n",
      "Epoch 16: Training Loss: 0.17227786076267051, Training Accuracy: 0.93954, Testing Loss: 0.47783431112766267, Testing Accuracy: 0.8535\n",
      "Epoch 17: Training Loss: 0.1507401760891461, Training Accuracy: 0.94764, Testing Loss: 0.44183815121650694, Testing Accuracy: 0.8658\n",
      "Epoch 18: Training Loss: 0.14437904804135146, Training Accuracy: 0.949, Testing Loss: 0.47300016283988955, Testing Accuracy: 0.8599\n",
      "Epoch 19: Training Loss: 0.1292249999947541, Training Accuracy: 0.95534, Testing Loss: 0.46958460509777067, Testing Accuracy: 0.8669\n",
      "Epoch 20: Training Loss: 0.12205196703162492, Training Accuracy: 0.95768, Testing Loss: 0.4391022056341171, Testing Accuracy: 0.872\n",
      "Model saved at acuracy of: 0.872\n",
      "Epoch 21: Training Loss: 0.11527578987995796, Training Accuracy: 0.95882, Testing Loss: 0.5124813884496688, Testing Accuracy: 0.8563\n",
      "Epoch 22: Training Loss: 0.10352792862631247, Training Accuracy: 0.96424, Testing Loss: 0.4601814657449722, Testing Accuracy: 0.8726\n",
      "Model saved at acuracy of: 0.8726\n",
      "Epoch 23: Training Loss: 0.09860259067991277, Training Accuracy: 0.96518, Testing Loss: 0.48205972015857695, Testing Accuracy: 0.8649\n",
      "Epoch 24: Training Loss: 0.09169091277843927, Training Accuracy: 0.96934, Testing Loss: 0.47954567670822146, Testing Accuracy: 0.8699\n",
      "Epoch 25: Training Loss: 0.08464518139827186, Training Accuracy: 0.97048, Testing Loss: 0.5143385499715805, Testing Accuracy: 0.8617\n",
      "Epoch 26: Training Loss: 0.08232611643098046, Training Accuracy: 0.97162, Testing Loss: 0.5346568882465362, Testing Accuracy: 0.8604\n",
      "Epoch 27: Training Loss: 0.08073857805960814, Training Accuracy: 0.97168, Testing Loss: 0.4685918211936951, Testing Accuracy: 0.8725\n",
      "Epoch 28: Training Loss: 0.073615822943149, Training Accuracy: 0.97422, Testing Loss: 0.5211132228374481, Testing Accuracy: 0.8656\n",
      "Model stopping due to no improvement in testing accuracy\n"
     ]
    }
   ],
   "source": [
    "train_plot_accuracy, test_plot_accuracy, train_plot_loss, test_plot_loss = train(train_loader, test_loader)"
   ]
  },
  {
   "cell_type": "code",
   "execution_count": null,
   "metadata": {},
   "outputs": [],
   "source": []
  }
 ],
 "metadata": {
  "kernelspec": {
   "display_name": "Python 3",
   "language": "python",
   "name": "python3"
  },
  "language_info": {
   "codemirror_mode": {
    "name": "ipython",
    "version": 3
   },
   "file_extension": ".py",
   "mimetype": "text/x-python",
   "name": "python",
   "nbconvert_exporter": "python",
   "pygments_lexer": "ipython3",
   "version": "3.10.0"
  }
 },
 "nbformat": 4,
 "nbformat_minor": 2
}
